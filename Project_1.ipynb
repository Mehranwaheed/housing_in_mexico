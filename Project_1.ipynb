{
 "cells": [
  {
   "cell_type": "markdown",
   "id": "0dde3438",
   "metadata": {},
   "source": [
    "# Housing in Mexico"
   ]
  },
  {
   "cell_type": "markdown",
   "id": "2b8a05fc",
   "metadata": {},
   "source": [
    "In this project we will create a Machine Learning model that will predict the appartments price. We will use Linear Regression model for this project."
   ]
  },
  {
   "cell_type": "code",
   "execution_count": 126,
   "id": "b0ccd9ba",
   "metadata": {},
   "outputs": [],
   "source": [
    "#import necessary libraries\n",
    "import pandas as pd\n",
    "import matplotlib.pyplot as plt\n",
    "import plotly.express as px\n",
    "import plotly.graph_objects as go\n",
    "from sklearn.metrics import mean_absolute_error\n",
    "from sklearn.linear_model import LinearRegression\n",
    "from sklearn.model_selection import train_test_split"
   ]
  },
  {
   "cell_type": "markdown",
   "id": "d060a14f",
   "metadata": {},
   "source": [
    " Automating the data importing and cleaning process through the use of functions can provide a standardized approach for data analysis, ensuring consistency and reproducibility. This approach saves time and identifies inconsistencies or errors in the data in a systematic manner. Functions are also easily modifiable and can be adapted to different datasets or changing data requirements, making data analysis more efficient and accurate. So we will create a function name \"Wrangle\" that will take the filepath and will return the clean Dataframe.\n",
    " "
   ]
  },
  {
   "cell_type": "code",
   "execution_count": 102,
   "id": "d75fee76",
   "metadata": {},
   "outputs": [],
   "source": [
    "def wrangle(filepath):\n",
    "    df=pd.read_csv(filepath)\n",
    "    # Subset data: Apartments in \"Capital Federal\", less than 4000\n",
    "    mask_apt=df[\"property_type\"]==\"apartment\"\n",
    "    mask_ba=df[\"place_with_parent_names\"].str.contains(\"Distrito Federal\")\n",
    "    mask_price=df[\"price_aprox_usd\"]<4000\n",
    "    \n",
    "   # Subset data: Remove outliers for \"surface_covered_in_m2\"\n",
    "    low, high =df[\"surface_covered_in_m2\"].quantile([0.1,0.9])\n",
    "    mask_area=df[\"surface_covered_in_m2\"].between(low, high)\n",
    "    mask_area1=df[\"surface_covered_in_m2\"]>20\n",
    "    \n",
    "    df=df[mask_apt & mask_ba & mask_price & mask_area & mask_area1]\n",
    "    \n",
    "    #dropping lat & lon column\n",
    "    df.drop(columns=[\"lat-lon\"], inplace=True)\n",
    "    \n",
    "    #dropping place_with_parent_names column because we have the column with place name\n",
    "    df.drop(columns=[\"place_with_parent_names\", \"place_name\"], inplace=True)\n",
    "    \n",
    "    #dropping columns with high null count\n",
    "    df.drop(columns=[\"geonames_id\", \"surface_total_in_m2\", \"price_usd_per_m2\", \"floor\", \"rooms\", \"rooms\" , \"expenses\"], inplace=True)\n",
    "    \n",
    "    #dropping columns which have high cardinality and low cardinality\n",
    "    df.drop(columns=[\"created_on\", \"operation\", \"property_type\", \"currency\", \"properati_url\",\"description\", \"title\", \"image_thumbnail\"], inplace=True)\n",
    "    \n",
    "    #dropping leaky features \n",
    "    df.drop(columns=[\"price\", \"price_aprox_local_currency\", \"price_per_m2\"], inplace=True)\n",
    "    \n",
    "    #dropping  na rows\n",
    "    df.dropna(inplace=True)\n",
    "    \n",
    "    return df"
   ]
  },
  {
   "cell_type": "code",
   "execution_count": 103,
   "id": "dd41c8d0",
   "metadata": {},
   "outputs": [
    {
     "data": {
      "text/html": [
       "<div>\n",
       "<style scoped>\n",
       "    .dataframe tbody tr th:only-of-type {\n",
       "        vertical-align: middle;\n",
       "    }\n",
       "\n",
       "    .dataframe tbody tr th {\n",
       "        vertical-align: top;\n",
       "    }\n",
       "\n",
       "    .dataframe thead th {\n",
       "        text-align: right;\n",
       "    }\n",
       "</style>\n",
       "<table border=\"1\" class=\"dataframe\">\n",
       "  <thead>\n",
       "    <tr style=\"text-align: right;\">\n",
       "      <th></th>\n",
       "      <th>lat</th>\n",
       "      <th>lon</th>\n",
       "      <th>price_aprox_usd</th>\n",
       "      <th>surface_covered_in_m2</th>\n",
       "    </tr>\n",
       "  </thead>\n",
       "  <tbody>\n",
       "    <tr>\n",
       "      <th>40</th>\n",
       "      <td>19.455980</td>\n",
       "      <td>-99.195425</td>\n",
       "      <td>411.39</td>\n",
       "      <td>64.0</td>\n",
       "    </tr>\n",
       "    <tr>\n",
       "      <th>42</th>\n",
       "      <td>19.388898</td>\n",
       "      <td>-99.265262</td>\n",
       "      <td>1190.88</td>\n",
       "      <td>215.0</td>\n",
       "    </tr>\n",
       "    <tr>\n",
       "      <th>43</th>\n",
       "      <td>19.375577</td>\n",
       "      <td>-99.249248</td>\n",
       "      <td>1245.01</td>\n",
       "      <td>147.0</td>\n",
       "    </tr>\n",
       "    <tr>\n",
       "      <th>45</th>\n",
       "      <td>19.465074</td>\n",
       "      <td>-99.153608</td>\n",
       "      <td>460.11</td>\n",
       "      <td>65.0</td>\n",
       "    </tr>\n",
       "    <tr>\n",
       "      <th>49</th>\n",
       "      <td>19.463983</td>\n",
       "      <td>-99.156004</td>\n",
       "      <td>541.31</td>\n",
       "      <td>76.0</td>\n",
       "    </tr>\n",
       "  </tbody>\n",
       "</table>\n",
       "</div>"
      ],
      "text/plain": [
       "          lat        lon  price_aprox_usd  surface_covered_in_m2\n",
       "40  19.455980 -99.195425           411.39                   64.0\n",
       "42  19.388898 -99.265262          1190.88                  215.0\n",
       "43  19.375577 -99.249248          1245.01                  147.0\n",
       "45  19.465074 -99.153608           460.11                   65.0\n",
       "49  19.463983 -99.156004           541.31                   76.0"
      ]
     },
     "execution_count": 103,
     "metadata": {},
     "output_type": "execute_result"
    }
   ],
   "source": [
    "df=wrangle(\"properati-MX-2016-11-01-properties-rent.csv\")\n",
    "df.head()"
   ]
  },
  {
   "cell_type": "code",
   "execution_count": 7,
   "id": "c15ec671",
   "metadata": {},
   "outputs": [
    {
     "data": {
      "text/plain": [
       "array(['house', 'apartment', 'store'], dtype=object)"
      ]
     },
     "execution_count": 7,
     "metadata": {},
     "output_type": "execute_result"
    }
   ],
   "source": [
    "df[\"property_type\"].unique()"
   ]
  },
  {
   "cell_type": "markdown",
   "id": "5e68fc4d",
   "metadata": {},
   "source": [
    "By viewing the Property type columns we have seen that there are 4 different types of properties in data set but we will work with the apartment. later on we will build model to predict the apartment prices"
   ]
  },
  {
   "cell_type": "code",
   "execution_count": 47,
   "id": "253b4de2",
   "metadata": {},
   "outputs": [
    {
     "data": {
      "text/plain": [
       "425"
      ]
     },
     "execution_count": 47,
     "metadata": {},
     "output_type": "execute_result"
    }
   ],
   "source": [
    "mask_a=df[\"place_with_parent_names\"].str.contains(\"Tamaulipas\")\n",
    "len(df[mask_a])"
   ]
  },
  {
   "cell_type": "markdown",
   "id": "8a5bd888",
   "metadata": {},
   "source": [
    "After Analyzing States in Data set came to the conclusion that most apartments are from \"Distrito Federal\". so to make a mask to trim the data to only the apartments that are in \"Distrito Federal\"."
   ]
  },
  {
   "cell_type": "code",
   "execution_count": 4,
   "id": "4598ee88",
   "metadata": {},
   "outputs": [
    {
     "data": {
      "text/plain": [
       "Distrito Federal                   2949\n",
       "Quintana Roo                        986\n",
       "Estado de México                    979\n",
       "Veracruz de Ignacio de la Llave     926\n",
       "Puebla                              837\n",
       "Nuevo León                          829\n",
       "Yucatán                             750\n",
       "Querétaro                           725\n",
       "Guerrero                            592\n",
       "São Paulo                           447\n",
       "Tamaulipas                          425\n",
       "San Luis Potosí                     399\n",
       "Morelos                             366\n",
       "Jalisco                             312\n",
       "Tabasco                             295\n",
       "Chihuahua                           125\n",
       "Baja California                     104\n",
       "Sinaloa                             101\n",
       "Guanajuato                           98\n",
       "Campeche                             88\n",
       "Chiapas                              87\n",
       "Nayarit                              63\n",
       "Oaxaca                               33\n",
       "Aguascalientes                       31\n",
       "Sonora                               31\n",
       "Baja California Sur                  24\n",
       "Hidalgo                              20\n",
       "Durango                              12\n",
       "Zacatecas                            11\n",
       "Colima                               11\n",
       "Rio Grande do Norte                   9\n",
       "Tlaxcala                              6\n",
       "Name: mexican_states, dtype: int64"
      ]
     },
     "execution_count": 4,
     "metadata": {},
     "output_type": "execute_result"
    }
   ],
   "source": [
    "df[\"mexican_states\"]=df[\"place_with_parent_names\"].str.split(\"|\", expand=True)[2]\n",
    "df[\"mexican_states\"].value_counts()\n"
   ]
  },
  {
   "cell_type": "code",
   "execution_count": 100,
   "id": "cd1b4e6b",
   "metadata": {},
   "outputs": [
    {
     "name": "stdout",
     "output_type": "stream",
     "text": [
      "<class 'pandas.core.frame.DataFrame'>\n",
      "Int64Index: 1972 entries, 40 to 37595\n",
      "Data columns (total 4 columns):\n",
      " #   Column                 Non-Null Count  Dtype  \n",
      "---  ------                 --------------  -----  \n",
      " 0   lat                    1972 non-null   float64\n",
      " 1   lon                    1972 non-null   float64\n",
      " 2   price_aprox_usd        1972 non-null   float64\n",
      " 3   surface_covered_in_m2  1972 non-null   float64\n",
      "dtypes: float64(4)\n",
      "memory usage: 77.0 KB\n"
     ]
    }
   ],
   "source": [
    "df.info() "
   ]
  },
  {
   "cell_type": "markdown",
   "id": "1a8465b7",
   "metadata": {},
   "source": [
    "we see that there are alot of outliers in our data 75% apartments in our dataset price less than 3000 so we have to remove the outliers to improve the result of our model. so we decided to just keep the apartments price less than 4000"
   ]
  },
  {
   "cell_type": "code",
   "execution_count": 67,
   "id": "01c79d1d",
   "metadata": {},
   "outputs": [
    {
     "data": {
      "text/plain": [
       "count    2306.000000\n",
       "mean      136.951865\n",
       "std        76.599762\n",
       "min        25.000000\n",
       "25%        80.000000\n",
       "50%       112.500000\n",
       "75%       180.000000\n",
       "max       400.000000\n",
       "Name: surface_covered_in_m2, dtype: float64"
      ]
     },
     "execution_count": 67,
     "metadata": {},
     "output_type": "execute_result"
    }
   ],
   "source": [
    "df.describe()[\"surface_covered_in_m2\"]\n"
   ]
  },
  {
   "cell_type": "markdown",
   "id": "e9e52cc4",
   "metadata": {},
   "source": [
    "we see that most of the apartments covers the area less than 180 meter square. our data is skewed so we have to remove the outliers from the data"
   ]
  },
  {
   "cell_type": "markdown",
   "id": "d7f3d108",
   "metadata": {},
   "source": [
    "scatter plot to see the relationship between surface area covered and price"
   ]
  },
  {
   "cell_type": "code",
   "execution_count": 151,
   "id": "fbfa131a",
   "metadata": {},
   "outputs": [
    {
     "data": {
      "image/png": "[encoded data removed]",
      "text/plain": [
       "<Figure size 640x480 with 1 Axes>"
      ]
     },
     "metadata": {},
     "output_type": "display_data"
    }
   ],
   "source": [
    "plt.scatter(x=df[\"surface_covered_in_m2\"], y= df[\"price_aprox_usd\"])\n",
    "\n",
    "plt.xlabel(\"Area [sq meters]\")\n",
    "plt.ylabel(\"Price [USD]\")\n",
    "plt.title(\"Price VS Area\");"
   ]
  },
  {
   "cell_type": "markdown",
   "id": "f47453bd",
   "metadata": {},
   "source": [
    "This plot suggests that there's a moderate positive correlation between apartment price and size. This means that if thing we want to predict is price, size will be a good feature to include."
   ]
  },
  {
   "cell_type": "code",
   "execution_count": 81,
   "id": "0af12d59",
   "metadata": {},
   "outputs": [
    {
     "data": {
      "text/plain": [
       "created_on                    0.000000\n",
       "operation                     0.000000\n",
       "property_type                 0.000000\n",
       "place_name                    0.000000\n",
       "lat                           0.144840\n",
       "lon                           0.144840\n",
       "price                         0.000000\n",
       "currency                      0.000000\n",
       "price_aprox_local_currency    0.000000\n",
       "price_aprox_usd               0.000000\n",
       "surface_covered_in_m2         0.000000\n",
       "price_per_m2                  0.000000\n",
       "properati_url                 0.000000\n",
       "description                   0.000000\n",
       "title                         0.000000\n",
       "image_thumbnail               0.076756\n",
       "dtype: float64"
      ]
     },
     "execution_count": 81,
     "metadata": {},
     "output_type": "execute_result"
    }
   ],
   "source": [
    "df.isnull().sum()/len(df)"
   ]
  },
  {
   "cell_type": "markdown",
   "id": "db98119e",
   "metadata": {},
   "source": [
    "The next thing we need to look out for are categorical columns with low or high cardinality. If there's only one category in a column, it won't provide any unique information to our model. At the other extreme, columns where nearly every row has its own category won't help our model in identifying useful trends in the data."
   ]
  },
  {
   "cell_type": "markdown",
   "id": "e00de9cd",
   "metadata": {},
   "source": [
    "Here we can see that operation and property type have only 1 value and other columns have too many unique values. These are clear examples of high- and low-cardinality features that we shouldn't include in our model."
   ]
  },
  {
   "cell_type": "markdown",
   "id": "8adc3238",
   "metadata": {},
   "source": [
    "# Split Data"
   ]
  },
  {
   "cell_type": "code",
   "execution_count": 131,
   "id": "1e10745b",
   "metadata": {},
   "outputs": [],
   "source": [
    "target = \"price_aprox_usd\"\n",
    "features=[\"surface_covered_in_m2\",\"lat\",\"lon\"]\n",
    "X = df[features]\n",
    "y = df[target]\n",
    "X_train, X_test, y_train, y_test =train_test_split(X, y, test_size= 0.2, random_state =42)"
   ]
  },
  {
   "cell_type": "markdown",
   "id": "24d3483f",
   "metadata": {},
   "source": [
    "# Baseline"
   ]
  },
  {
   "cell_type": "code",
   "execution_count": 132,
   "id": "e64edae8",
   "metadata": {},
   "outputs": [
    {
     "name": "stdout",
     "output_type": "stream",
     "text": [
      "Mean apt price: 1387.25\n",
      "Baseline MAE: 685.58\n"
     ]
    }
   ],
   "source": [
    "y_mean=y_train.mean()\n",
    "y_pred_baseline=[y_mean]*len(y_train)\n",
    "\n",
    "print(\"Mean apt price:\", round(y_mean,2))\n",
    "\n",
    "print(\"Baseline MAE:\", round(mean_absolute_error(y_train,y_pred_baseline),2))"
   ]
  },
  {
   "cell_type": "markdown",
   "id": "f7aac4fc",
   "metadata": {},
   "source": [
    "Mean apartment price is about 1383.48 and if we always guess by average we will be off by around 678.17 ."
   ]
  },
  {
   "cell_type": "markdown",
   "id": "68ba8e9f",
   "metadata": {},
   "source": [
    "# Model Building"
   ]
  },
  {
   "cell_type": "code",
   "execution_count": 133,
   "id": "747c1776",
   "metadata": {},
   "outputs": [
    {
     "data": {
      "text/plain": [
       "LinearRegression()"
      ]
     },
     "execution_count": 133,
     "metadata": {},
     "output_type": "execute_result"
    }
   ],
   "source": [
    "model= LinearRegression()\n",
    "model.fit(X_train, y_train)"
   ]
  },
  {
   "cell_type": "code",
   "execution_count": 146,
   "id": "466ab445",
   "metadata": {},
   "outputs": [
    {
     "name": "stdout",
     "output_type": "stream",
     "text": [
      "Training MAE: 389.72\n"
     ]
    }
   ],
   "source": [
    "y_pred_training = model.predict(X_train)\n",
    "mae_training = mean_absolute_error(y_train,y_pred_training)\n",
    "print(\"Training MAE:\", round(mae_training, 2))"
   ]
  },
  {
   "cell_type": "code",
   "execution_count": 152,
   "id": "f3f671b4",
   "metadata": {},
   "outputs": [
    {
     "name": "stdout",
     "output_type": "stream",
     "text": [
      "Test MAE: 380.75\n"
     ]
    }
   ],
   "source": [
    "y_pred_test = model.predict(X_test)\n",
    "mae_test = mean_absolute_error(y_test,y_pred_test)\n",
    "print(\"Test MAE:\", round(mae_test, 2))"
   ]
  },
  {
   "cell_type": "markdown",
   "id": "4e528ea7",
   "metadata": {},
   "source": [
    "so we can see that our model is performing good beating the Baseline MAE."
   ]
  }
 ],
 "metadata": {
  "kernelspec": {
   "display_name": "Python 3 (ipykernel)",
   "language": "python",
   "name": "python3"
  },
  "language_info": {
   "codemirror_mode": {
    "name": "ipython",
    "version": 3
   },
   "file_extension": ".py",
   "mimetype": "text/x-python",
   "name": "python",
   "nbconvert_exporter": "python",
   "pygments_lexer": "ipython3",
   "version": "3.9.13"
  }
 },
 "nbformat": 4,
 "nbformat_minor": 5
}
